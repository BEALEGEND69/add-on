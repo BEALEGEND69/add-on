{
 "cells": [
  {
   "cell_type": "code",
   "execution_count": 1,
   "id": "e51624e2",
   "metadata": {},
   "outputs": [
    {
     "name": "stdout",
     "output_type": "stream",
     "text": [
      "Top seecond is : 10\n"
     ]
    }
   ],
   "source": [
    "scores=[7,8,9,10,11]\n",
    "unique=list(set(scores))\n",
    "sort=sorted(unique,reverse=True)\n",
    "print(\"Top seecond is :\",sort[1])\n"
   ]
  },
  {
   "cell_type": "code",
   "execution_count": 3,
   "id": "09d0e636",
   "metadata": {},
   "outputs": [
    {
     "name": "stdout",
     "output_type": "stream",
     "text": [
      "{8, 5, 6}\n"
     ]
    }
   ],
   "source": [
    "s1={5,6,8,9,47}\n",
    "s2={6,3,22,5,8}\n",
    "if s1.intersection(s2):\n",
    "    print(s1&s2)\n",
    "else:\n",
    "    print(s1.union(s2))"
   ]
  },
  {
   "cell_type": "code",
   "execution_count": 6,
   "id": "49c33bb2",
   "metadata": {},
   "outputs": [
    {
     "name": "stdout",
     "output_type": "stream",
     "text": [
      "Enter  the name to be uploadJohn\n",
      "{'John': [88, 77, 99], 'Peter': [87, 55, 96], 'Ram': [58, 55, 43], 'Meena': [63, 79, 85]}\n"
     ]
    }
   ],
   "source": [
    "D=D={'John' :[25,32,43],'Peter':[87,55,96],'Ram':[58,55,43],'Meena':[63,79,85]}\n",
    "n=input(\"Enter  the name to be upload\")\n",
    "if n in D:\n",
    "    D[n]=[88,77,99]\n",
    "    print(D)\n",
    "else:\n",
    "    print('Name not found')"
   ]
  },
  {
   "cell_type": "code",
   "execution_count": 7,
   "id": "2853c6d0",
   "metadata": {},
   "outputs": [
    {
     "data": {
      "text/plain": [
       "'Nraa'"
      ]
     },
     "execution_count": 7,
     "metadata": {},
     "output_type": "execute_result"
    }
   ],
   "source": [
    "s='Nirmala'\n",
    "s[::2]"
   ]
  },
  {
   "cell_type": "code",
   "execution_count": 9,
   "id": "276467a3",
   "metadata": {},
   "outputs": [
    {
     "name": "stdout",
     "output_type": "stream",
     "text": [
      "Elder =  48\n",
      "youngest = 23\n"
     ]
    }
   ],
   "source": [
    "age=[23,36,48]\n",
    "print('Elder = ',max(age))\n",
    "print(\"youngest =\",min(age))\n"
   ]
  },
  {
   "cell_type": "code",
   "execution_count": null,
   "id": "5cdfc42b",
   "metadata": {},
   "outputs": [],
   "source": []
  }
 ],
 "metadata": {
  "kernelspec": {
   "display_name": "Python 3 (ipykernel)",
   "language": "python",
   "name": "python3"
  },
  "language_info": {
   "codemirror_mode": {
    "name": "ipython",
    "version": 3
   },
   "file_extension": ".py",
   "mimetype": "text/x-python",
   "name": "python",
   "nbconvert_exporter": "python",
   "pygments_lexer": "ipython3",
   "version": "3.11.5"
  }
 },
 "nbformat": 4,
 "nbformat_minor": 5
}
